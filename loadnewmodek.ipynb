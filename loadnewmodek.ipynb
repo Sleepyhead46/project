{
 "cells": [
  {
   "cell_type": "code",
   "execution_count": null,
   "metadata": {},
   "outputs": [],
   "source": [
    "from sklearn.neural_network import MLPClassifier\n",
    "from sklearn.metrics import accuracy_score\n",
    "import joblib\n",
    "\n",
    "# Load the existing MLP model\n",
    "filename_mlp = 'mlp_model.pkl'\n",
    "with open(filename_mlp, 'rb') as file:\n",
    "    MLP = joblib.load(file)\n",
    "\n",
    "# Train the MLP model on the new dataset\n",
    "MLP.partial_fit(X_train, y_train, classes=np.unique(y_train))\n",
    "\n",
    "# Save the updated model to the same file\n",
    "with open(filename_mlp, 'wb') as file:\n",
    "    joblib.dump(MLP, file)\n",
    "\n",
    "# Evaluate the model on the test set\n",
    "test_accuracy_mlp = MLP.score(X_test, y_test)\n",
    "print(\"MLP Accuracy on Test Set: \", test_accuracy_mlp)\n"
   ]
  }
 ],
 "metadata": {
  "language_info": {
   "name": "python"
  }
 },
 "nbformat": 4,
 "nbformat_minor": 2
}
